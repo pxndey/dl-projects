{
 "cells": [
  {
   "cell_type": "code",
   "execution_count": 48,
   "id": "652035c0-9ae0-44f9-b4f8-1f7c18191036",
   "metadata": {
    "tags": []
   },
   "outputs": [],
   "source": [
    "#Importing libraries\n",
    "\n",
    "import numpy as np\n",
    "import pandas as pd\n",
    "import matplotlib.pyplot as plt\n",
    "import seaborn as sns\n",
    "from sklearn.model_selection import train_test_split\n",
    "from sklearn.preprocessing import StandardScaler\n",
    "from sklearn.metrics import precision_recall_curve,accuracy_score,f1_score,precision_score,recall_score\n",
    "import tensorflow as tf\n",
    "from tensorflow import keras\n",
    "from tensorflow.keras import layers\n",
    "from tensorflow.keras.models import Sequential\n",
    "from tensorflow.keras.optimizers import Adam\n",
    "from tensorflow.keras import losses \n",
    "from PIL import Image"
   ]
  },
  {
   "cell_type": "code",
   "execution_count": 49,
   "id": "dcd7bb14-ec66-4f57-ad44-04280cd20fb5",
   "metadata": {
    "tags": []
   },
   "outputs": [],
   "source": [
    "from tensorflow.keras.applications import resnet"
   ]
  },
  {
   "cell_type": "code",
   "execution_count": 50,
   "id": "020658bc-2f96-4c29-b1f4-106699fc92ba",
   "metadata": {
    "tags": []
   },
   "outputs": [],
   "source": [
    "model = resnet.ResNet50()"
   ]
  },
  {
   "cell_type": "code",
   "execution_count": 51,
   "id": "f354070d-e73a-46ad-9515-9ebc057820ff",
   "metadata": {
    "tags": []
   },
   "outputs": [],
   "source": [
    "(x_train, y_train), (x_test, y_test) = tf.keras.datasets.mnist.load_data()"
   ]
  },
  {
   "cell_type": "code",
   "execution_count": 52,
   "id": "d3b9ebcf-0e65-42e6-8afb-dc4a46728dd5",
   "metadata": {
    "tags": []
   },
   "outputs": [],
   "source": [
    "import tensorflow as tf\n",
    "from tensorflow.keras.applications.resnet50 import preprocess_input\n",
    "from tensorflow.keras.preprocessing.image import load_img, img_to_array\n",
    "image_path = 'C:/users/anush/Programming/Kaggle Datasets/dl-projects/resnet50/catto.png'  \n",
    "target_size = (224, 224)\n",
    "\n",
    "def load_and_preprocess_image(image_path, target_size):\n",
    "    img = load_img(image_path, target_size=target_size)\n",
    "    img_array = img_to_array(img)\n",
    "    img_array = tf.expand_dims(img_array, axis=0)\n",
    "    img_array = preprocess_input(img_array)\n",
    "    \n",
    "    return img_array\n",
    "\n",
    "processed_image = load_and_preprocess_image(image_path, target_size)"
   ]
  },
  {
   "cell_type": "code",
   "execution_count": null,
   "id": "5886e1a8-8568-4c15-9a7d-63464a37a6db",
   "metadata": {
    "tags": []
   },
   "outputs": [],
   "source": [
    "model = resnet.ResNet50()\n",
    "tf.keras.applications.resnet50.decode_predictions(model.predict(processed_image))"
   ]
  },
  {
   "cell_type": "code",
   "execution_count": null,
   "id": "4652a16b-d79a-4e32-8e25-6efdfc7a52cc",
   "metadata": {
    "tags": []
   },
   "outputs": [],
   "source": [
    "import tensorflow as tf\n",
    "from tensorflow.keras.applications.resnet50 import preprocess_input\n",
    "from tensorflow.keras.preprocessing.image import load_img, img_to_array\n",
    "\n",
    "image_path = 'C:/users/anush/Programming/Kaggle Datasets/dl-projects/resnet50/rocket.jpg'\n",
    "target_size = (224, 224)\n",
    "def load_and_preprocess_image(image_path, target_size):\n",
    "    img = load_img(image_path, target_size=target_size)\n",
    "    img_array = img_to_array(img)\n",
    "    img_array = tf.expand_dims(img_array, axis=0)\n",
    "    img_array = preprocess_input(img_array)\n",
    "    return img_array\n",
    "processed_image = load_and_preprocess_image(image_path, target_size)\n",
    "tf.keras.applications.resnet50.decode_predictions(model.predict(processed_image))"
   ]
  },
  {
   "cell_type": "code",
   "execution_count": null,
   "id": "f48303c1-7379-465b-8f10-9794ff329355",
   "metadata": {
    "tags": []
   },
   "outputs": [],
   "source": [
    "import tensorflow as tf\n",
    "from tensorflow.keras.applications.resnet50 import preprocess_input\n",
    "from tensorflow.keras.preprocessing.image import load_img, img_to_array\n",
    "image_path = 'C:/users/anush/Programming/Kaggle Datasets/dl-projects/resnet50/photo-1558788353-f76d92427f16.jpg'\n",
    "target_size = (224, 224)\n",
    "def load_and_preprocess_image(image_path, target_size):\n",
    "    img = load_img(image_path, target_size=target_size)\n",
    "    img_array = img_to_array(img)\n",
    "    img_array = tf.expand_dims(img_array, axis=0)\n",
    "    img_array = preprocess_input(img_array)\n",
    "    return img_array\n",
    "processed_image = load_and_preprocess_image(image_path, target_size)\n",
    "tf.keras.applications.resnet50.decode_predictions(model.predict(processed_image))"
   ]
  },
  {
   "cell_type": "code",
   "execution_count": null,
   "id": "e17775b2-34f5-4306-a018-fb563ca26a21",
   "metadata": {},
   "outputs": [],
   "source": []
  }
 ],
 "metadata": {
  "kernelspec": {
   "display_name": "Python 3 (ipykernel)",
   "language": "python",
   "name": "python3"
  },
  "language_info": {
   "codemirror_mode": {
    "name": "ipython",
    "version": 3
   },
   "file_extension": ".py",
   "mimetype": "text/x-python",
   "name": "python",
   "nbconvert_exporter": "python",
   "pygments_lexer": "ipython3",
   "version": "3.9.17"
  }
 },
 "nbformat": 4,
 "nbformat_minor": 5
}
