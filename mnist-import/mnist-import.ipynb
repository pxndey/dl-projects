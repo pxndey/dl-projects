{
 "cells": [
  {
   "cell_type": "code",
   "execution_count": 1,
   "id": "6bbb75c4-6a5c-48a5-96a9-ea2b2b7faf8b",
   "metadata": {
    "tags": []
   },
   "outputs": [],
   "source": [
    "import numpy as np\n",
    "import pandas as pd\n",
    "import matplotlib.pyplot as plt\n",
    "import seaborn as sns\n",
    "from sklearn.model_selection import train_test_split\n",
    "from sklearn.preprocessing import StandardScaler\n",
    "from sklearn.metrics import precision_recall_curve,accuracy_score,f1_score,precision_score,recall_score\n",
    "import tensorflow as tf\n",
    "from tensorflow import keras\n",
    "from tensorflow.keras import layers\n",
    "from tensorflow.keras.models import Sequential\n",
    "from tensorflow.keras.optimizers import Adam\n",
    "from tensorflow.keras import losses \n",
    "from PIL import Image"
   ]
  },
  {
   "cell_type": "code",
   "execution_count": 2,
   "id": "581b0479-3960-4e42-921b-37b699723575",
   "metadata": {
    "tags": []
   },
   "outputs": [
    {
     "data": {
      "text/plain": [
       "[PhysicalDevice(name='/physical_device:GPU:0', device_type='GPU'),\n",
       " PhysicalDevice(name='/physical_device:GPU:1', device_type='GPU')]"
      ]
     },
     "execution_count": 2,
     "metadata": {},
     "output_type": "execute_result"
    }
   ],
   "source": [
    "tf.config.list_physical_devices('GPU')"
   ]
  },
  {
   "cell_type": "code",
   "execution_count": 3,
   "id": "7a83fb4a-18c8-4e99-9a6a-60432f126db6",
   "metadata": {},
   "outputs": [],
   "source": [
    "import numpy as np\n",
    "from PIL import Image\n",
    "import os\n",
    "\n",
    "# Define the path to your dataset directory\n",
    "dataset_dir = \"Data\"\n",
    "\n",
    "# Initialize empty lists to store images as NumPy arrays and class labels\n",
    "images_as_arrays = []\n",
    "class_labels = []\n",
    "\n",
    "# Loop through the subdirectories (classes) in the dataset directory\n",
    "for class_name in os.listdir(dataset_dir):\n",
    "    class_dir = os.path.join(dataset_dir, class_name)\n",
    "\n",
    "    # Loop through the image files in each class directory\n",
    "    for filename in os.listdir(class_dir):\n",
    "        if filename.endswith(('.jpg', '.jpeg', '.png', '.bmp')):\n",
    "            # Construct the full path to the image file\n",
    "            image_path = os.path.join(class_dir, filename)\n",
    "\n",
    "            # Open and load the image using PIL within a context manager\n",
    "            with Image.open(image_path) as image:\n",
    "                # Convert the PIL image to a NumPy array\n",
    "                image_array = np.array(image)\n",
    "                \n",
    "                # Append the image array to the list\n",
    "                images_as_arrays.append(image_array)\n",
    "                \n",
    "                # Append the class label to the list\n",
    "                class_labels.append(int(class_name))\n",
    "\n",
    "# Convert the lists to NumPy arrays\n",
    "x = np.array(images_as_arrays)\n",
    "y = np.array(class_labels)\n",
    "\n",
    "# Now, 'images_as_arrays' contains your image data as NumPy arrays, and 'class_labels' contains the corresponding class labels.\n"
   ]
  },
  {
   "cell_type": "code",
   "execution_count": 4,
   "id": "ee13deea-7b39-443f-b3bc-769811a2a60d",
   "metadata": {
    "tags": []
   },
   "outputs": [
    {
     "data": {
      "text/plain": [
       "(42000, 28, 28)"
      ]
     },
     "execution_count": 4,
     "metadata": {},
     "output_type": "execute_result"
    }
   ],
   "source": [
    "x.shape"
   ]
  },
  {
   "cell_type": "code",
   "execution_count": 5,
   "id": "4d7a26a0-2cf9-42d4-a4d0-744a4bd3a0de",
   "metadata": {
    "tags": []
   },
   "outputs": [],
   "source": [
    "x = tf.pad(x,[[0,0],[2,2],[2,2]])/255"
   ]
  },
  {
   "cell_type": "code",
   "execution_count": 6,
   "id": "882593dd-233b-4d31-97a0-46a2d6ffeb60",
   "metadata": {
    "tags": []
   },
   "outputs": [],
   "source": [
    "x = tf.expand_dims(x, axis=3, name=None)"
   ]
  },
  {
   "cell_type": "code",
   "execution_count": 7,
   "id": "b9bd507f-0aed-45de-a5c6-7420b6826273",
   "metadata": {
    "tags": []
   },
   "outputs": [
    {
     "data": {
      "text/plain": [
       "TensorShape([42000, 32, 32, 1])"
      ]
     },
     "execution_count": 7,
     "metadata": {},
     "output_type": "execute_result"
    }
   ],
   "source": [
    "x.shape"
   ]
  },
  {
   "cell_type": "code",
   "execution_count": 8,
   "id": "8ed48dec-36e7-43ec-8896-0d05e37d68da",
   "metadata": {
    "tags": []
   },
   "outputs": [
    {
     "name": "stdout",
     "output_type": "stream",
     "text": [
      "Model: \"sequential\"\n",
      "_________________________________________________________________\n",
      " Layer (type)                Output Shape              Param #   \n",
      "=================================================================\n",
      " conv2d (Conv2D)             (None, 28, 28, 6)         156       \n",
      "                                                                 \n",
      " average_pooling2d (AverageP  (None, 14, 14, 6)        0         \n",
      " ooling2D)                                                       \n",
      "                                                                 \n",
      " activation (Activation)     (None, 14, 14, 6)         0         \n",
      "                                                                 \n",
      " conv2d_1 (Conv2D)           (None, 10, 10, 16)        2416      \n",
      "                                                                 \n",
      " average_pooling2d_1 (Averag  (None, 5, 5, 16)         0         \n",
      " ePooling2D)                                                     \n",
      "                                                                 \n",
      " activation_1 (Activation)   (None, 5, 5, 16)          0         \n",
      "                                                                 \n",
      " conv2d_2 (Conv2D)           (None, 1, 1, 120)         48120     \n",
      "                                                                 \n",
      " flatten (Flatten)           (None, 120)               0         \n",
      "                                                                 \n",
      " dense (Dense)               (None, 84)                10164     \n",
      "                                                                 \n",
      " dense_1 (Dense)             (None, 10)                850       \n",
      "                                                                 \n",
      "=================================================================\n",
      "Total params: 61,706\n",
      "Trainable params: 61,706\n",
      "Non-trainable params: 0\n",
      "_________________________________________________________________\n"
     ]
    }
   ],
   "source": [
    "model = Sequential()\n",
    "model.add(layers.Conv2D(filters=6, kernel_size=(5,5), activation='tanh', input_shape=x.shape[1:]))\n",
    "model.add(layers.AveragePooling2D(2))\n",
    "model.add(layers.Activation('sigmoid'))\n",
    "model.add(layers.Conv2D(16, 5, activation='tanh'))\n",
    "model.add(layers.AveragePooling2D(2))\n",
    "model.add(layers.Activation('sigmoid'))\n",
    "model.add(layers.Conv2D(120, 5, activation='tanh'))\n",
    "model.add(layers.Flatten())\n",
    "model.add(layers.Dense(84, activation='tanh'))\n",
    "model.add(layers.Dense(10, activation='softmax'))\n",
    "model.summary()"
   ]
  },
  {
   "cell_type": "code",
   "execution_count": 9,
   "id": "91d562e2-ee04-43ed-8f2c-cfd173af929c",
   "metadata": {
    "tags": []
   },
   "outputs": [
    {
     "data": {
      "text/plain": [
       "array([0, 0, 0, ..., 9, 9, 9])"
      ]
     },
     "execution_count": 9,
     "metadata": {},
     "output_type": "execute_result"
    }
   ],
   "source": [
    "y"
   ]
  },
  {
   "cell_type": "code",
   "execution_count": 10,
   "id": "713d178c-2004-4e2c-97e2-8834eefbe748",
   "metadata": {
    "tags": []
   },
   "outputs": [
    {
     "name": "stdout",
     "output_type": "stream",
     "text": [
      "Epoch 1/40\n",
      "657/657 [==============================] - 8s 10ms/step - loss: 1.9513 - accuracy: 0.2681\n",
      "Epoch 2/40\n",
      "657/657 [==============================] - 6s 10ms/step - loss: 0.5493 - accuracy: 0.8241\n",
      "Epoch 3/40\n",
      "657/657 [==============================] - 6s 10ms/step - loss: 0.3507 - accuracy: 0.8888\n",
      "Epoch 4/40\n",
      "657/657 [==============================] - 6s 10ms/step - loss: 0.2878 - accuracy: 0.9077\n",
      "Epoch 5/40\n",
      "657/657 [==============================] - 6s 10ms/step - loss: 0.2455 - accuracy: 0.9207\n",
      "Epoch 6/40\n",
      "657/657 [==============================] - 6s 10ms/step - loss: 0.2224 - accuracy: 0.9298\n",
      "Epoch 7/40\n",
      "657/657 [==============================] - 6s 10ms/step - loss: 0.2042 - accuracy: 0.9352\n",
      "Epoch 8/40\n",
      "657/657 [==============================] - 6s 10ms/step - loss: 0.1805 - accuracy: 0.9430\n",
      "Epoch 9/40\n",
      "657/657 [==============================] - 6s 10ms/step - loss: 0.1728 - accuracy: 0.9443\n",
      "Epoch 10/40\n",
      "657/657 [==============================] - 6s 10ms/step - loss: 0.1584 - accuracy: 0.9497\n",
      "Epoch 11/40\n",
      "657/657 [==============================] - 6s 9ms/step - loss: 0.1464 - accuracy: 0.9540\n",
      "Epoch 12/40\n",
      "657/657 [==============================] - 6s 10ms/step - loss: 0.1357 - accuracy: 0.9583\n",
      "Epoch 13/40\n",
      "657/657 [==============================] - 6s 10ms/step - loss: 0.1291 - accuracy: 0.9590\n",
      "Epoch 14/40\n",
      "657/657 [==============================] - 6s 10ms/step - loss: 0.1226 - accuracy: 0.9618\n",
      "Epoch 15/40\n",
      "657/657 [==============================] - 6s 10ms/step - loss: 0.1168 - accuracy: 0.9642\n",
      "Epoch 16/40\n",
      "657/657 [==============================] - 6s 10ms/step - loss: 0.1101 - accuracy: 0.9651\n",
      "Epoch 17/40\n",
      "657/657 [==============================] - 6s 10ms/step - loss: 0.1052 - accuracy: 0.9657\n",
      "Epoch 18/40\n",
      "657/657 [==============================] - 6s 10ms/step - loss: 0.1026 - accuracy: 0.9680\n",
      "Epoch 19/40\n",
      "657/657 [==============================] - 6s 10ms/step - loss: 0.0986 - accuracy: 0.9691\n",
      "Epoch 20/40\n",
      "657/657 [==============================] - 7s 10ms/step - loss: 0.0894 - accuracy: 0.9720\n",
      "Epoch 21/40\n",
      "657/657 [==============================] - 6s 10ms/step - loss: 0.0902 - accuracy: 0.9710\n",
      "Epoch 22/40\n",
      "657/657 [==============================] - 7s 10ms/step - loss: 0.0882 - accuracy: 0.9718\n",
      "Epoch 23/40\n",
      "657/657 [==============================] - 6s 10ms/step - loss: 0.0882 - accuracy: 0.9723\n",
      "Epoch 24/40\n",
      "657/657 [==============================] - 6s 10ms/step - loss: 0.0815 - accuracy: 0.9744\n",
      "Epoch 25/40\n",
      "657/657 [==============================] - 7s 10ms/step - loss: 0.0786 - accuracy: 0.9754\n",
      "Epoch 26/40\n",
      "657/657 [==============================] - 6s 10ms/step - loss: 0.0753 - accuracy: 0.9756\n",
      "Epoch 27/40\n",
      "657/657 [==============================] - 7s 10ms/step - loss: 0.0727 - accuracy: 0.9770\n",
      "Epoch 28/40\n",
      "657/657 [==============================] - 6s 10ms/step - loss: 0.0718 - accuracy: 0.9769\n",
      "Epoch 29/40\n",
      "657/657 [==============================] - 6s 10ms/step - loss: 0.0682 - accuracy: 0.9778\n",
      "Epoch 30/40\n",
      "657/657 [==============================] - 6s 10ms/step - loss: 0.0676 - accuracy: 0.9780\n",
      "Epoch 31/40\n",
      "657/657 [==============================] - 6s 10ms/step - loss: 0.0650 - accuracy: 0.9794\n",
      "Epoch 32/40\n",
      "657/657 [==============================] - 7s 10ms/step - loss: 0.0634 - accuracy: 0.9800\n",
      "Epoch 33/40\n",
      "657/657 [==============================] - 6s 10ms/step - loss: 0.0633 - accuracy: 0.9791\n",
      "Epoch 34/40\n",
      "657/657 [==============================] - 6s 10ms/step - loss: 0.0590 - accuracy: 0.9813\n",
      "Epoch 35/40\n",
      "657/657 [==============================] - 6s 10ms/step - loss: 0.0605 - accuracy: 0.9805\n",
      "Epoch 36/40\n",
      "657/657 [==============================] - 6s 9ms/step - loss: 0.0552 - accuracy: 0.9822\n",
      "Epoch 37/40\n",
      "657/657 [==============================] - 6s 10ms/step - loss: 0.0551 - accuracy: 0.9829\n",
      "Epoch 38/40\n",
      "657/657 [==============================] - 6s 10ms/step - loss: 0.0536 - accuracy: 0.9826\n",
      "Epoch 39/40\n",
      "657/657 [==============================] - 6s 10ms/step - loss: 0.0533 - accuracy: 0.9827\n",
      "Epoch 40/40\n",
      "657/657 [==============================] - 6s 10ms/step - loss: 0.0524 - accuracy: 0.9829\n"
     ]
    }
   ],
   "source": [
    "model.compile(optimizer='adam', loss=losses.sparse_categorical_crossentropy, metrics=['accuracy'])\n",
    "history = model.fit(x, y, batch_size=64, epochs=40,)"
   ]
  },
  {
   "cell_type": "code",
   "execution_count": 11,
   "id": "e42763e9-af64-46a6-b398-33b81ebc778a",
   "metadata": {
    "tags": []
   },
   "outputs": [],
   "source": [
    "testDir = \"test\"\n",
    "testAr = []\n",
    "for class_name in os.listdir(testDir):\n",
    "    class_dir = os.path.join(testDir, class_name)\n",
    "    for filename in os.listdir(class_dir):\n",
    "        if filename.endswith(('.jpg', '.jpeg', '.png', '.bmp')):\n",
    "            image_path = os.path.join(class_dir, filename)\n",
    "            with Image.open(image_path) as image:\n",
    "                image_array = np.array(image)\n",
    "                testAr.append(image_array)\n",
    "testImg = np.array(testAr)"
   ]
  },
  {
   "cell_type": "code",
   "execution_count": 14,
   "id": "469ba94b-ee42-4735-8ab5-a3f2088c2dae",
   "metadata": {
    "tags": []
   },
   "outputs": [
    {
     "data": {
      "text/plain": [
       "(28000, 28, 28)"
      ]
     },
     "execution_count": 14,
     "metadata": {},
     "output_type": "execute_result"
    }
   ],
   "source": [
    "testImg.shape"
   ]
  },
  {
   "cell_type": "code",
   "execution_count": 16,
   "id": "1ad83e02-61b2-4309-93d7-efa8c1a90a8d",
   "metadata": {
    "tags": []
   },
   "outputs": [],
   "source": [
    "def preprossess(data):\n",
    "    data = tf.pad(data,[[0,0],[2,2],[2,2]])/255\n",
    "    data = tf.expand_dims(data, axis=3, name=None)\n",
    "    return data"
   ]
  },
  {
   "cell_type": "code",
   "execution_count": 18,
   "id": "d77638c9-15ca-4a4c-9dda-06ba53bd7b52",
   "metadata": {
    "tags": []
   },
   "outputs": [],
   "source": [
    "testImg = preprossess(testImg)"
   ]
  },
  {
   "cell_type": "code",
   "execution_count": 19,
   "id": "cf1e2e85-aff9-4885-b7d1-689f8a96fa23",
   "metadata": {
    "tags": []
   },
   "outputs": [
    {
     "data": {
      "text/plain": [
       "TensorShape([28000, 32, 32, 1])"
      ]
     },
     "execution_count": 19,
     "metadata": {},
     "output_type": "execute_result"
    }
   ],
   "source": [
    "testImg.shape"
   ]
  },
  {
   "cell_type": "code",
   "execution_count": 20,
   "id": "4d525844-9136-488e-9c3f-580ab0d6ae18",
   "metadata": {
    "tags": []
   },
   "outputs": [
    {
     "name": "stdout",
     "output_type": "stream",
     "text": [
      "875/875 [==============================] - 3s 3ms/step\n"
     ]
    }
   ],
   "source": [
    "preds = model.predict(testImg)"
   ]
  },
  {
   "cell_type": "code",
   "execution_count": 21,
   "id": "0d6cc94a-7ded-49a4-bf81-e3d0224c48a1",
   "metadata": {
    "tags": []
   },
   "outputs": [
    {
     "data": {
      "text/plain": [
       "array([1.9382702e-08, 3.7998288e-07, 2.8652270e-05, 9.9949646e-01,\n",
       "       5.2648392e-08, 4.8561350e-07, 2.2218696e-10, 4.5486109e-04,\n",
       "       1.3784540e-05, 5.2550131e-06], dtype=float32)"
      ]
     },
     "execution_count": 21,
     "metadata": {},
     "output_type": "execute_result"
    }
   ],
   "source": [
    "preds[100]"
   ]
  },
  {
   "cell_type": "code",
   "execution_count": 23,
   "id": "58797d13-b8be-4749-af0b-3c56e9a3308a",
   "metadata": {
    "tags": []
   },
   "outputs": [],
   "source": [
    "def tf_printnum(tensor):\n",
    "    tensor = tf.reshape(tensor,[32,32,1])\n",
    "    tensor = tensor[tf.newaxis,...]\n",
    "    pred = model.predict(tensor)\n",
    "    print(np.where(pred == pred.max())[1][0])\n",
    "    plt.imshow(tensor[0,:,:,0])"
   ]
  },
  {
   "cell_type": "code",
   "execution_count": 24,
   "id": "bcb4c293-e7f6-4e13-be8d-59b8e73669dd",
   "metadata": {
    "tags": []
   },
   "outputs": [
    {
     "name": "stdout",
     "output_type": "stream",
     "text": [
      "1/1 [==============================] - 0s 152ms/step\n",
      "3\n"
     ]
    },
    {
     "data": {
      "image/png": "[encoded data removed]",
      "text/plain": [
       "<Figure size 640x480 with 1 Axes>"
      ]
     },
     "metadata": {},
     "output_type": "display_data"
    }
   ],
   "source": [
    "tf_printnum(testImg[100])"
   ]
  },
  {
   "cell_type": "code",
   "execution_count": null,
   "id": "121288b7-b840-4057-9f4a-ede876082673",
   "metadata": {},
   "outputs": [],
   "source": []
  }
 ],
 "metadata": {
  "kernelspec": {
   "display_name": "Python 3 (ipykernel)",
   "language": "python",
   "name": "python3"
  },
  "language_info": {
   "codemirror_mode": {
    "name": "ipython",
    "version": 3
   },
   "file_extension": ".py",
   "mimetype": "text/x-python",
   "name": "python",
   "nbconvert_exporter": "python",
   "pygments_lexer": "ipython3",
   "version": "3.9.17"
  }
 },
 "nbformat": 4,
 "nbformat_minor": 5
}
