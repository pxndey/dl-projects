{
 "cells": [
  {
   "cell_type": "code",
   "execution_count": 1,
   "id": "b9c8379d-0a0d-47b5-a314-ba09e061af03",
   "metadata": {
    "tags": []
   },
   "outputs": [],
   "source": [
    "import numpy as np\n",
    "import pandas as pd\n",
    "import matplotlib.pyplot as plt\n",
    "import seaborn as sns\n",
    "import warnings\n",
    "warnings.filterwarnings('ignore')"
   ]
  },
  {
   "cell_type": "code",
   "execution_count": 2,
   "id": "f116a040-47b6-4892-b76a-7b56bff6fb07",
   "metadata": {
    "tags": []
   },
   "outputs": [],
   "source": [
    "from sklearn.model_selection import train_test_split\n",
    "from sklearn.metrics import accuracy_score,f1_score,precision_score,recall_score\n",
    "import tensorflow as tf\n",
    "from tensorflow import keras\n",
    "from tensorflow.keras import layers\n",
    "from tensorflow.keras.models import Sequential\n",
    "from tensorflow.keras.optimizers import Adam\n",
    "import os\n",
    "from PIL import Image"
   ]
  },
  {
   "cell_type": "code",
   "execution_count": 3,
   "id": "60811b87-f3fa-47a2-aa20-b129c65cf33e",
   "metadata": {},
   "outputs": [],
   "source": [
    "def process_images(folder_path):\n",
    "    data = []\n",
    "    labels = []\n",
    "\n",
    "    # Loop through the files in the folder\n",
    "    for filename in os.listdir(folder_path):\n",
    "        if filename.endswith(\".jpg\"):\n",
    "            # Load the image using PIL (Pillow)\n",
    "            image = Image.open(os.path.join(folder_path, filename))\n",
    "            \n",
    "            # Extract the label from the filename or folder structure\n",
    "            label = 1  # Assuming labels are before an underscore in the filename\n",
    "            # Alternatively, you can extract labels based on the folder structure if it's organized that way.\n",
    "\n",
    "            # Append the image and label to the data lists\n",
    "            data.append(image)\n",
    "            labels.append(label)\n",
    "\n",
    "    return data, labels\n"
   ]
  },
  {
   "cell_type": "code",
   "execution_count": 4,
   "id": "67227307-1ed1-490a-9f61-2256c295c7d4",
   "metadata": {
    "tags": []
   },
   "outputs": [],
   "source": [
    "folder_path = \"dataset\\yes\"\n",
    "yes_tumor, yes_labels = process_images(folder_path)\n"
   ]
  },
  {
   "cell_type": "code",
   "execution_count": 5,
   "id": "6ed368f5-8191-49e6-a388-e47642ae73b3",
   "metadata": {
    "tags": []
   },
   "outputs": [],
   "source": [
    "def process_images(folder_path):\n",
    "    data = []\n",
    "    labels = []\n",
    "\n",
    "    # Loop through the files in the folder\n",
    "    for filename in os.listdir(folder_path):\n",
    "        if filename.endswith(\".jpg\"):\n",
    "            # Load the image using PIL (Pillow)\n",
    "            image = Image.open(os.path.join(folder_path, filename))\n",
    "            \n",
    "            # Extract the label from the filename or folder structure\n",
    "            label = 0  # Assuming labels are before an underscore in the filename\n",
    "            # Alternatively, you can extract labels based on the folder structure if it's organized that way.\n",
    "\n",
    "            # Append the image and label to the data lists\n",
    "            data.append(image)\n",
    "            labels.append(label)\n",
    "\n",
    "    return data, labels\n"
   ]
  },
  {
   "cell_type": "code",
   "execution_count": 6,
   "id": "35fe6cde-0b92-47f2-bd17-358f54638ca6",
   "metadata": {
    "tags": []
   },
   "outputs": [
    {
     "data": {
      "text/plain": [
       "[1,\n",
       " 1,\n",
       " 1,\n",
       " 1,\n",
       " 1,\n",
       " 1,\n",
       " 1,\n",
       " 1,\n",
       " 1,\n",
       " 1,\n",
       " 1,\n",
       " 1,\n",
       " 1,\n",
       " 1,\n",
       " 1,\n",
       " 1,\n",
       " 1,\n",
       " 1,\n",
       " 1,\n",
       " 1,\n",
       " 1,\n",
       " 1,\n",
       " 1,\n",
       " 1,\n",
       " 1,\n",
       " 1,\n",
       " 1,\n",
       " 1,\n",
       " 1,\n",
       " 1,\n",
       " 1,\n",
       " 1,\n",
       " 1,\n",
       " 1,\n",
       " 1,\n",
       " 1,\n",
       " 1,\n",
       " 1,\n",
       " 1,\n",
       " 1,\n",
       " 1,\n",
       " 1,\n",
       " 1,\n",
       " 1,\n",
       " 1,\n",
       " 1,\n",
       " 1,\n",
       " 1,\n",
       " 1,\n",
       " 1,\n",
       " 1,\n",
       " 1,\n",
       " 1,\n",
       " 1,\n",
       " 1,\n",
       " 1,\n",
       " 1,\n",
       " 1,\n",
       " 1,\n",
       " 1,\n",
       " 1,\n",
       " 1,\n",
       " 1,\n",
       " 1,\n",
       " 1,\n",
       " 1,\n",
       " 1,\n",
       " 1,\n",
       " 1,\n",
       " 1,\n",
       " 1,\n",
       " 1,\n",
       " 1,\n",
       " 1,\n",
       " 1,\n",
       " 1,\n",
       " 1,\n",
       " 1,\n",
       " 1,\n",
       " 1,\n",
       " 1,\n",
       " 1,\n",
       " 1,\n",
       " 1,\n",
       " 1,\n",
       " 1]"
      ]
     },
     "execution_count": 6,
     "metadata": {},
     "output_type": "execute_result"
    }
   ],
   "source": [
    "yes_labels"
   ]
  },
  {
   "cell_type": "code",
   "execution_count": 7,
   "id": "a1fd04f8-e1ce-4049-a2f6-1d95455f094a",
   "metadata": {
    "tags": []
   },
   "outputs": [],
   "source": [
    "folder_path = \"dataset\\\\no\"\n",
    "no_tumor, no_labels = process_images(folder_path)\n"
   ]
  },
  {
   "cell_type": "code",
   "execution_count": 8,
   "id": "064b1a69-e46d-4600-8d88-23f868710159",
   "metadata": {
    "tags": []
   },
   "outputs": [
    {
     "data": {
      "text/plain": [
       "[<PIL.JpegImagePlugin.JpegImageFile image mode=RGB size=173x201>,\n",
       " <PIL.JpegImagePlugin.JpegImageFile image mode=RGB size=300x168>,\n",
       " <PIL.JpegImagePlugin.JpegImageFile image mode=RGB size=275x183>,\n",
       " <PIL.JpegImagePlugin.JpegImageFile image mode=RGB size=300x168>,\n",
       " <PIL.JpegImagePlugin.JpegImageFile image mode=RGB size=177x197>,\n",
       " <PIL.JpegImagePlugin.JpegImageFile image mode=RGB size=232x217>,\n",
       " <PIL.JpegImagePlugin.JpegImageFile image mode=RGB size=218x231>,\n",
       " <PIL.JpegImagePlugin.JpegImageFile image mode=RGB size=228x221>,\n",
       " <PIL.JpegImagePlugin.JpegImageFile image mode=RGB size=200x200>,\n",
       " <PIL.JpegImagePlugin.JpegImageFile image mode=RGB size=194x259>,\n",
       " <PIL.JpegImagePlugin.JpegImageFile image mode=RGB size=225x225>,\n",
       " <PIL.JpegImagePlugin.JpegImageFile image mode=RGB size=207x243>,\n",
       " <PIL.JpegImagePlugin.JpegImageFile image mode=RGB size=208x242>,\n",
       " <PIL.JpegImagePlugin.JpegImageFile image mode=RGB size=235x214>,\n",
       " <PIL.JpegImagePlugin.JpegImageFile image mode=RGB size=232x217>,\n",
       " <PIL.JpegImagePlugin.JpegImageFile image mode=RGB size=200x252>,\n",
       " <PIL.JpegImagePlugin.JpegImageFile image mode=RGB size=218x231>,\n",
       " <PIL.JpegImagePlugin.JpegImageFile image mode=RGB size=201x251>,\n",
       " <PIL.JpegImagePlugin.JpegImageFile image mode=RGB size=215x234>,\n",
       " <PIL.JpegImagePlugin.JpegImageFile image mode=RGB size=225x225>,\n",
       " <PIL.JpegImagePlugin.JpegImageFile image mode=RGB size=208x242>,\n",
       " <PIL.JpegImagePlugin.JpegImageFile image mode=RGB size=200x252>,\n",
       " <PIL.JpegImagePlugin.JpegImageFile image mode=RGB size=225x225>,\n",
       " <PIL.JpegImagePlugin.JpegImageFile image mode=RGB size=236x213>,\n",
       " <PIL.JpegImagePlugin.JpegImageFile image mode=RGB size=150x198>,\n",
       " <PIL.JpegImagePlugin.JpegImageFile image mode=RGB size=225x225>,\n",
       " <PIL.JpegImagePlugin.JpegImageFile image mode=RGB size=228x221>,\n",
       " <PIL.JpegImagePlugin.JpegImageFile image mode=RGB size=225x225>,\n",
       " <PIL.JpegImagePlugin.JpegImageFile image mode=RGB size=201x251>,\n",
       " <PIL.JpegImagePlugin.JpegImageFile image mode=RGB size=225x225>,\n",
       " <PIL.JpegImagePlugin.JpegImageFile image mode=RGB size=201x250>,\n",
       " <PIL.JpegImagePlugin.JpegImageFile image mode=RGB size=225x225>,\n",
       " <PIL.JpegImagePlugin.JpegImageFile image mode=RGB size=225x225>,\n",
       " <PIL.JpegImagePlugin.JpegImageFile image mode=RGB size=300x168>,\n",
       " <PIL.JpegImagePlugin.JpegImageFile image mode=RGB size=259x194>,\n",
       " <PIL.JpegImagePlugin.JpegImageFile image mode=RGB size=441x442>,\n",
       " <PIL.JpegImagePlugin.JpegImageFile image mode=RGB size=356x474>,\n",
       " <PIL.JpegImagePlugin.JpegImageFile image mode=RGB size=380x530>,\n",
       " <PIL.JpegImagePlugin.JpegImageFile image mode=RGB size=225x225>,\n",
       " <PIL.JpegImagePlugin.JpegImageFile image mode=RGB size=225x225>,\n",
       " <PIL.JpegImagePlugin.JpegImageFile image mode=RGB size=225x225>,\n",
       " <PIL.JpegImagePlugin.JpegImageFile image mode=RGB size=227x222>,\n",
       " <PIL.JpegImagePlugin.JpegImageFile image mode=RGB size=192x192>,\n",
       " <PIL.JpegImagePlugin.JpegImageFile image mode=RGB size=428x417>,\n",
       " <PIL.JpegImagePlugin.JpegImageFile image mode=RGB size=201x251>,\n",
       " <PIL.JpegImagePlugin.JpegImageFile image mode=RGB size=173x201>,\n",
       " <PIL.JpegImagePlugin.JpegImageFile image mode=RGB size=630x614>,\n",
       " <PIL.JpegImagePlugin.JpegImageFile image mode=L size=225x225>,\n",
       " <PIL.JpegImagePlugin.JpegImageFile image mode=RGB size=212x238>,\n",
       " <PIL.JpegImagePlugin.JpegImageFile image mode=RGB size=350x393>,\n",
       " <PIL.JpegImagePlugin.JpegImageFile image mode=L size=1024x1024>,\n",
       " <PIL.JpegImagePlugin.JpegImageFile image mode=L size=220x275>,\n",
       " <PIL.JpegImagePlugin.JpegImageFile image mode=RGB size=201x250>,\n",
       " <PIL.JpegImagePlugin.JpegImageFile image mode=RGB size=196x257>,\n",
       " <PIL.JpegImagePlugin.JpegImageFile image mode=RGB size=225x225>,\n",
       " <PIL.JpegImagePlugin.JpegImageFile image mode=L size=750x750>,\n",
       " <PIL.JpegImagePlugin.JpegImageFile image mode=RGB size=225x225>,\n",
       " <PIL.JpegImagePlugin.JpegImageFile image mode=RGB size=232x217>,\n",
       " <PIL.JpegImagePlugin.JpegImageFile image mode=RGB size=225x225>,\n",
       " <PIL.JpegImagePlugin.JpegImageFile image mode=L size=220x275>,\n",
       " <PIL.JpegImagePlugin.JpegImageFile image mode=RGB size=214x236>,\n",
       " <PIL.JpegImagePlugin.JpegImageFile image mode=RGB size=642x361>,\n",
       " <PIL.JpegImagePlugin.JpegImageFile image mode=RGB size=504x540>,\n",
       " <PIL.JpegImagePlugin.JpegImageFile image mode=RGB size=420x280>,\n",
       " <PIL.JpegImagePlugin.JpegImageFile image mode=RGB size=206x244>,\n",
       " <PIL.JpegImagePlugin.JpegImageFile image mode=RGB size=225x225>,\n",
       " <PIL.JpegImagePlugin.JpegImageFile image mode=L size=630x630>,\n",
       " <PIL.JpegImagePlugin.JpegImageFile image mode=L size=275x301>,\n",
       " <PIL.PngImagePlugin.PngImageFile image mode=RGBA size=550x664>,\n",
       " <PIL.JpegImagePlugin.JpegImageFile image mode=RGB size=442x442>,\n",
       " <PIL.PngImagePlugin.PngImageFile image mode=P size=728x725>,\n",
       " <PIL.JpegImagePlugin.JpegImageFile image mode=L size=409x442>,\n",
       " <PIL.PngImagePlugin.PngImageFile image mode=RGBA size=512x512>,\n",
       " <PIL.JpegImagePlugin.JpegImageFile image mode=RGB size=630x630>,\n",
       " <PIL.JpegImagePlugin.JpegImageFile image mode=RGB size=472x537>,\n",
       " <PIL.JpegImagePlugin.JpegImageFile image mode=L size=442x442>,\n",
       " <PIL.JpegImagePlugin.JpegImageFile image mode=RGB size=339x340>,\n",
       " <PIL.PngImagePlugin.PngImageFile image mode=RGBA size=393x400>,\n",
       " <PIL.JpegImagePlugin.JpegImageFile image mode=RGB size=300x200>,\n",
       " <PIL.PngImagePlugin.PngImageFile image mode=RGBA size=393x400>,\n",
       " <PIL.PngImagePlugin.PngImageFile image mode=RGBA size=442x454>,\n",
       " <PIL.JpegImagePlugin.JpegImageFile image mode=RGB size=680x680>,\n",
       " <PIL.JpegImagePlugin.JpegImageFile image mode=RGB size=468x444>,\n",
       " <PIL.JpegImagePlugin.JpegImageFile image mode=L size=442x442>,\n",
       " <PIL.JpegImagePlugin.JpegImageFile image mode=RGB size=359x449>]"
      ]
     },
     "execution_count": 8,
     "metadata": {},
     "output_type": "execute_result"
    }
   ],
   "source": [
    "no_tumor"
   ]
  },
  {
   "cell_type": "code",
   "execution_count": 9,
   "id": "9a826bb9-ba5f-4345-a90a-46eaf2aa46d2",
   "metadata": {
    "tags": []
   },
   "outputs": [],
   "source": [
    "df_yes = pd.DataFrame({'image': yes_tumor,'labels':yes_labels})"
   ]
  },
  {
   "cell_type": "code",
   "execution_count": 10,
   "id": "dffeb45b-8778-43dd-a66a-6897a598e2b4",
   "metadata": {
    "tags": []
   },
   "outputs": [],
   "source": [
    "df_no = pd.DataFrame({'image': no_tumor,'labels':no_labels})"
   ]
  },
  {
   "cell_type": "code",
   "execution_count": 11,
   "id": "da3285e0-8082-4771-ace1-bf22b3b831d9",
   "metadata": {
    "tags": []
   },
   "outputs": [
    {
     "data": {
      "text/html": [
       "<div>\n",
       "<style scoped>\n",
       "    .dataframe tbody tr th:only-of-type {\n",
       "        vertical-align: middle;\n",
       "    }\n",
       "\n",
       "    .dataframe tbody tr th {\n",
       "        vertical-align: top;\n",
       "    }\n",
       "\n",
       "    .dataframe thead th {\n",
       "        text-align: right;\n",
       "    }\n",
       "</style>\n",
       "<table border=\"1\" class=\"dataframe\">\n",
       "  <thead>\n",
       "    <tr style=\"text-align: right;\">\n",
       "      <th></th>\n",
       "      <th>image</th>\n",
       "      <th>labels</th>\n",
       "    </tr>\n",
       "  </thead>\n",
       "  <tbody>\n",
       "    <tr>\n",
       "      <th>0</th>\n",
       "      <td>&lt;PIL.JpegImagePlugin.JpegImageFile image mode=...</td>\n",
       "      <td>1</td>\n",
       "    </tr>\n",
       "    <tr>\n",
       "      <th>1</th>\n",
       "      <td>&lt;PIL.JpegImagePlugin.JpegImageFile image mode=...</td>\n",
       "      <td>1</td>\n",
       "    </tr>\n",
       "    <tr>\n",
       "      <th>2</th>\n",
       "      <td>&lt;PIL.JpegImagePlugin.JpegImageFile image mode=...</td>\n",
       "      <td>1</td>\n",
       "    </tr>\n",
       "    <tr>\n",
       "      <th>3</th>\n",
       "      <td>&lt;PIL.JpegImagePlugin.JpegImageFile image mode=...</td>\n",
       "      <td>1</td>\n",
       "    </tr>\n",
       "    <tr>\n",
       "      <th>4</th>\n",
       "      <td>&lt;PIL.JpegImagePlugin.JpegImageFile image mode=...</td>\n",
       "      <td>1</td>\n",
       "    </tr>\n",
       "    <tr>\n",
       "      <th>...</th>\n",
       "      <td>...</td>\n",
       "      <td>...</td>\n",
       "    </tr>\n",
       "    <tr>\n",
       "      <th>81</th>\n",
       "      <td>&lt;PIL.JpegImagePlugin.JpegImageFile image mode=...</td>\n",
       "      <td>1</td>\n",
       "    </tr>\n",
       "    <tr>\n",
       "      <th>82</th>\n",
       "      <td>&lt;PIL.JpegImagePlugin.JpegImageFile image mode=...</td>\n",
       "      <td>1</td>\n",
       "    </tr>\n",
       "    <tr>\n",
       "      <th>83</th>\n",
       "      <td>&lt;PIL.JpegImagePlugin.JpegImageFile image mode=...</td>\n",
       "      <td>1</td>\n",
       "    </tr>\n",
       "    <tr>\n",
       "      <th>84</th>\n",
       "      <td>&lt;PIL.JpegImagePlugin.JpegImageFile image mode=...</td>\n",
       "      <td>1</td>\n",
       "    </tr>\n",
       "    <tr>\n",
       "      <th>85</th>\n",
       "      <td>&lt;PIL.JpegImagePlugin.JpegImageFile image mode=...</td>\n",
       "      <td>1</td>\n",
       "    </tr>\n",
       "  </tbody>\n",
       "</table>\n",
       "<p>86 rows × 2 columns</p>\n",
       "</div>"
      ],
      "text/plain": [
       "                                                image  labels\n",
       "0   <PIL.JpegImagePlugin.JpegImageFile image mode=...       1\n",
       "1   <PIL.JpegImagePlugin.JpegImageFile image mode=...       1\n",
       "2   <PIL.JpegImagePlugin.JpegImageFile image mode=...       1\n",
       "3   <PIL.JpegImagePlugin.JpegImageFile image mode=...       1\n",
       "4   <PIL.JpegImagePlugin.JpegImageFile image mode=...       1\n",
       "..                                                ...     ...\n",
       "81  <PIL.JpegImagePlugin.JpegImageFile image mode=...       1\n",
       "82  <PIL.JpegImagePlugin.JpegImageFile image mode=...       1\n",
       "83  <PIL.JpegImagePlugin.JpegImageFile image mode=...       1\n",
       "84  <PIL.JpegImagePlugin.JpegImageFile image mode=...       1\n",
       "85  <PIL.JpegImagePlugin.JpegImageFile image mode=...       1\n",
       "\n",
       "[86 rows x 2 columns]"
      ]
     },
     "execution_count": 11,
     "metadata": {},
     "output_type": "execute_result"
    }
   ],
   "source": [
    "df_yes"
   ]
  },
  {
   "cell_type": "code",
   "execution_count": 12,
   "id": "65d125d3-04d7-428a-b0a6-7149a4ead332",
   "metadata": {
    "tags": []
   },
   "outputs": [
    {
     "data": {
      "text/html": [
       "<div>\n",
       "<style scoped>\n",
       "    .dataframe tbody tr th:only-of-type {\n",
       "        vertical-align: middle;\n",
       "    }\n",
       "\n",
       "    .dataframe tbody tr th {\n",
       "        vertical-align: top;\n",
       "    }\n",
       "\n",
       "    .dataframe thead th {\n",
       "        text-align: right;\n",
       "    }\n",
       "</style>\n",
       "<table border=\"1\" class=\"dataframe\">\n",
       "  <thead>\n",
       "    <tr style=\"text-align: right;\">\n",
       "      <th></th>\n",
       "      <th>image</th>\n",
       "      <th>labels</th>\n",
       "    </tr>\n",
       "  </thead>\n",
       "  <tbody>\n",
       "    <tr>\n",
       "      <th>0</th>\n",
       "      <td>&lt;PIL.JpegImagePlugin.JpegImageFile image mode=...</td>\n",
       "      <td>0</td>\n",
       "    </tr>\n",
       "    <tr>\n",
       "      <th>1</th>\n",
       "      <td>&lt;PIL.JpegImagePlugin.JpegImageFile image mode=...</td>\n",
       "      <td>0</td>\n",
       "    </tr>\n",
       "    <tr>\n",
       "      <th>2</th>\n",
       "      <td>&lt;PIL.JpegImagePlugin.JpegImageFile image mode=...</td>\n",
       "      <td>0</td>\n",
       "    </tr>\n",
       "    <tr>\n",
       "      <th>3</th>\n",
       "      <td>&lt;PIL.JpegImagePlugin.JpegImageFile image mode=...</td>\n",
       "      <td>0</td>\n",
       "    </tr>\n",
       "    <tr>\n",
       "      <th>4</th>\n",
       "      <td>&lt;PIL.JpegImagePlugin.JpegImageFile image mode=...</td>\n",
       "      <td>0</td>\n",
       "    </tr>\n",
       "    <tr>\n",
       "      <th>...</th>\n",
       "      <td>...</td>\n",
       "      <td>...</td>\n",
       "    </tr>\n",
       "    <tr>\n",
       "      <th>80</th>\n",
       "      <td>&lt;PIL.PngImagePlugin.PngImageFile image mode=RG...</td>\n",
       "      <td>0</td>\n",
       "    </tr>\n",
       "    <tr>\n",
       "      <th>81</th>\n",
       "      <td>&lt;PIL.JpegImagePlugin.JpegImageFile image mode=...</td>\n",
       "      <td>0</td>\n",
       "    </tr>\n",
       "    <tr>\n",
       "      <th>82</th>\n",
       "      <td>&lt;PIL.JpegImagePlugin.JpegImageFile image mode=...</td>\n",
       "      <td>0</td>\n",
       "    </tr>\n",
       "    <tr>\n",
       "      <th>83</th>\n",
       "      <td>&lt;PIL.JpegImagePlugin.JpegImageFile image mode=...</td>\n",
       "      <td>0</td>\n",
       "    </tr>\n",
       "    <tr>\n",
       "      <th>84</th>\n",
       "      <td>&lt;PIL.JpegImagePlugin.JpegImageFile image mode=...</td>\n",
       "      <td>0</td>\n",
       "    </tr>\n",
       "  </tbody>\n",
       "</table>\n",
       "<p>85 rows × 2 columns</p>\n",
       "</div>"
      ],
      "text/plain": [
       "                                                image  labels\n",
       "0   <PIL.JpegImagePlugin.JpegImageFile image mode=...       0\n",
       "1   <PIL.JpegImagePlugin.JpegImageFile image mode=...       0\n",
       "2   <PIL.JpegImagePlugin.JpegImageFile image mode=...       0\n",
       "3   <PIL.JpegImagePlugin.JpegImageFile image mode=...       0\n",
       "4   <PIL.JpegImagePlugin.JpegImageFile image mode=...       0\n",
       "..                                                ...     ...\n",
       "80  <PIL.PngImagePlugin.PngImageFile image mode=RG...       0\n",
       "81  <PIL.JpegImagePlugin.JpegImageFile image mode=...       0\n",
       "82  <PIL.JpegImagePlugin.JpegImageFile image mode=...       0\n",
       "83  <PIL.JpegImagePlugin.JpegImageFile image mode=...       0\n",
       "84  <PIL.JpegImagePlugin.JpegImageFile image mode=...       0\n",
       "\n",
       "[85 rows x 2 columns]"
      ]
     },
     "execution_count": 12,
     "metadata": {},
     "output_type": "execute_result"
    }
   ],
   "source": [
    "df_no"
   ]
  },
  {
   "cell_type": "code",
   "execution_count": 13,
   "id": "dbdbbccd-ffb1-4194-946b-b5157462b3c6",
   "metadata": {
    "tags": []
   },
   "outputs": [],
   "source": [
    "df = pd.concat([df_no,df_yes])"
   ]
  },
  {
   "cell_type": "code",
   "execution_count": 14,
   "id": "56d12733-f84d-402e-aa80-26275ef7f13d",
   "metadata": {
    "tags": []
   },
   "outputs": [
    {
     "data": {
      "text/html": [
       "<div>\n",
       "<style scoped>\n",
       "    .dataframe tbody tr th:only-of-type {\n",
       "        vertical-align: middle;\n",
       "    }\n",
       "\n",
       "    .dataframe tbody tr th {\n",
       "        vertical-align: top;\n",
       "    }\n",
       "\n",
       "    .dataframe thead th {\n",
       "        text-align: right;\n",
       "    }\n",
       "</style>\n",
       "<table border=\"1\" class=\"dataframe\">\n",
       "  <thead>\n",
       "    <tr style=\"text-align: right;\">\n",
       "      <th></th>\n",
       "      <th>image</th>\n",
       "      <th>labels</th>\n",
       "    </tr>\n",
       "  </thead>\n",
       "  <tbody>\n",
       "    <tr>\n",
       "      <th>0</th>\n",
       "      <td>&lt;PIL.JpegImagePlugin.JpegImageFile image mode=...</td>\n",
       "      <td>0</td>\n",
       "    </tr>\n",
       "    <tr>\n",
       "      <th>1</th>\n",
       "      <td>&lt;PIL.JpegImagePlugin.JpegImageFile image mode=...</td>\n",
       "      <td>0</td>\n",
       "    </tr>\n",
       "    <tr>\n",
       "      <th>2</th>\n",
       "      <td>&lt;PIL.JpegImagePlugin.JpegImageFile image mode=...</td>\n",
       "      <td>0</td>\n",
       "    </tr>\n",
       "    <tr>\n",
       "      <th>3</th>\n",
       "      <td>&lt;PIL.JpegImagePlugin.JpegImageFile image mode=...</td>\n",
       "      <td>0</td>\n",
       "    </tr>\n",
       "    <tr>\n",
       "      <th>4</th>\n",
       "      <td>&lt;PIL.JpegImagePlugin.JpegImageFile image mode=...</td>\n",
       "      <td>0</td>\n",
       "    </tr>\n",
       "    <tr>\n",
       "      <th>...</th>\n",
       "      <td>...</td>\n",
       "      <td>...</td>\n",
       "    </tr>\n",
       "    <tr>\n",
       "      <th>81</th>\n",
       "      <td>&lt;PIL.JpegImagePlugin.JpegImageFile image mode=...</td>\n",
       "      <td>1</td>\n",
       "    </tr>\n",
       "    <tr>\n",
       "      <th>82</th>\n",
       "      <td>&lt;PIL.JpegImagePlugin.JpegImageFile image mode=...</td>\n",
       "      <td>1</td>\n",
       "    </tr>\n",
       "    <tr>\n",
       "      <th>83</th>\n",
       "      <td>&lt;PIL.JpegImagePlugin.JpegImageFile image mode=...</td>\n",
       "      <td>1</td>\n",
       "    </tr>\n",
       "    <tr>\n",
       "      <th>84</th>\n",
       "      <td>&lt;PIL.JpegImagePlugin.JpegImageFile image mode=...</td>\n",
       "      <td>1</td>\n",
       "    </tr>\n",
       "    <tr>\n",
       "      <th>85</th>\n",
       "      <td>&lt;PIL.JpegImagePlugin.JpegImageFile image mode=...</td>\n",
       "      <td>1</td>\n",
       "    </tr>\n",
       "  </tbody>\n",
       "</table>\n",
       "<p>171 rows × 2 columns</p>\n",
       "</div>"
      ],
      "text/plain": [
       "                                                image  labels\n",
       "0   <PIL.JpegImagePlugin.JpegImageFile image mode=...       0\n",
       "1   <PIL.JpegImagePlugin.JpegImageFile image mode=...       0\n",
       "2   <PIL.JpegImagePlugin.JpegImageFile image mode=...       0\n",
       "3   <PIL.JpegImagePlugin.JpegImageFile image mode=...       0\n",
       "4   <PIL.JpegImagePlugin.JpegImageFile image mode=...       0\n",
       "..                                                ...     ...\n",
       "81  <PIL.JpegImagePlugin.JpegImageFile image mode=...       1\n",
       "82  <PIL.JpegImagePlugin.JpegImageFile image mode=...       1\n",
       "83  <PIL.JpegImagePlugin.JpegImageFile image mode=...       1\n",
       "84  <PIL.JpegImagePlugin.JpegImageFile image mode=...       1\n",
       "85  <PIL.JpegImagePlugin.JpegImageFile image mode=...       1\n",
       "\n",
       "[171 rows x 2 columns]"
      ]
     },
     "execution_count": 14,
     "metadata": {},
     "output_type": "execute_result"
    }
   ],
   "source": [
    "df"
   ]
  },
  {
   "cell_type": "code",
   "execution_count": 15,
   "id": "f45541e5-ee1c-433c-a011-e519950b1d7d",
   "metadata": {
    "tags": []
   },
   "outputs": [],
   "source": [
    "df = df.reset_index()"
   ]
  },
  {
   "cell_type": "code",
   "execution_count": 16,
   "id": "94f0ad9c-7048-4f08-8186-a96ad6d4bfbd",
   "metadata": {
    "tags": []
   },
   "outputs": [],
   "source": [
    "df = df.sample(frac=1)"
   ]
  },
  {
   "cell_type": "code",
   "execution_count": 17,
   "id": "d9e2420b-29d3-4d19-ab3a-3cca7a70b64c",
   "metadata": {
    "tags": []
   },
   "outputs": [],
   "source": [
    "df = df.reset_index()"
   ]
  },
  {
   "cell_type": "code",
   "execution_count": 18,
   "id": "652668ef-1b59-46cf-bf39-f70054d31052",
   "metadata": {
    "tags": []
   },
   "outputs": [
    {
     "data": {
      "text/html": [
       "<div>\n",
       "<style scoped>\n",
       "    .dataframe tbody tr th:only-of-type {\n",
       "        vertical-align: middle;\n",
       "    }\n",
       "\n",
       "    .dataframe tbody tr th {\n",
       "        vertical-align: top;\n",
       "    }\n",
       "\n",
       "    .dataframe thead th {\n",
       "        text-align: right;\n",
       "    }\n",
       "</style>\n",
       "<table border=\"1\" class=\"dataframe\">\n",
       "  <thead>\n",
       "    <tr style=\"text-align: right;\">\n",
       "      <th></th>\n",
       "      <th>level_0</th>\n",
       "      <th>index</th>\n",
       "      <th>image</th>\n",
       "      <th>labels</th>\n",
       "    </tr>\n",
       "  </thead>\n",
       "  <tbody>\n",
       "    <tr>\n",
       "      <th>0</th>\n",
       "      <td>143</td>\n",
       "      <td>58</td>\n",
       "      <td>&lt;PIL.JpegImagePlugin.JpegImageFile image mode=...</td>\n",
       "      <td>1</td>\n",
       "    </tr>\n",
       "    <tr>\n",
       "      <th>1</th>\n",
       "      <td>132</td>\n",
       "      <td>47</td>\n",
       "      <td>&lt;PIL.JpegImagePlugin.JpegImageFile image mode=...</td>\n",
       "      <td>1</td>\n",
       "    </tr>\n",
       "    <tr>\n",
       "      <th>2</th>\n",
       "      <td>72</td>\n",
       "      <td>72</td>\n",
       "      <td>&lt;PIL.PngImagePlugin.PngImageFile image mode=RG...</td>\n",
       "      <td>0</td>\n",
       "    </tr>\n",
       "    <tr>\n",
       "      <th>3</th>\n",
       "      <td>3</td>\n",
       "      <td>3</td>\n",
       "      <td>&lt;PIL.JpegImagePlugin.JpegImageFile image mode=...</td>\n",
       "      <td>0</td>\n",
       "    </tr>\n",
       "    <tr>\n",
       "      <th>4</th>\n",
       "      <td>17</td>\n",
       "      <td>17</td>\n",
       "      <td>&lt;PIL.JpegImagePlugin.JpegImageFile image mode=...</td>\n",
       "      <td>0</td>\n",
       "    </tr>\n",
       "    <tr>\n",
       "      <th>...</th>\n",
       "      <td>...</td>\n",
       "      <td>...</td>\n",
       "      <td>...</td>\n",
       "      <td>...</td>\n",
       "    </tr>\n",
       "    <tr>\n",
       "      <th>166</th>\n",
       "      <td>104</td>\n",
       "      <td>19</td>\n",
       "      <td>&lt;PIL.JpegImagePlugin.JpegImageFile image mode=...</td>\n",
       "      <td>1</td>\n",
       "    </tr>\n",
       "    <tr>\n",
       "      <th>167</th>\n",
       "      <td>151</td>\n",
       "      <td>66</td>\n",
       "      <td>&lt;PIL.JpegImagePlugin.JpegImageFile image mode=...</td>\n",
       "      <td>1</td>\n",
       "    </tr>\n",
       "    <tr>\n",
       "      <th>168</th>\n",
       "      <td>142</td>\n",
       "      <td>57</td>\n",
       "      <td>&lt;PIL.JpegImagePlugin.JpegImageFile image mode=...</td>\n",
       "      <td>1</td>\n",
       "    </tr>\n",
       "    <tr>\n",
       "      <th>169</th>\n",
       "      <td>147</td>\n",
       "      <td>62</td>\n",
       "      <td>&lt;PIL.JpegImagePlugin.JpegImageFile image mode=...</td>\n",
       "      <td>1</td>\n",
       "    </tr>\n",
       "    <tr>\n",
       "      <th>170</th>\n",
       "      <td>5</td>\n",
       "      <td>5</td>\n",
       "      <td>&lt;PIL.JpegImagePlugin.JpegImageFile image mode=...</td>\n",
       "      <td>0</td>\n",
       "    </tr>\n",
       "  </tbody>\n",
       "</table>\n",
       "<p>171 rows × 4 columns</p>\n",
       "</div>"
      ],
      "text/plain": [
       "     level_0  index                                              image  labels\n",
       "0        143     58  <PIL.JpegImagePlugin.JpegImageFile image mode=...       1\n",
       "1        132     47  <PIL.JpegImagePlugin.JpegImageFile image mode=...       1\n",
       "2         72     72  <PIL.PngImagePlugin.PngImageFile image mode=RG...       0\n",
       "3          3      3  <PIL.JpegImagePlugin.JpegImageFile image mode=...       0\n",
       "4         17     17  <PIL.JpegImagePlugin.JpegImageFile image mode=...       0\n",
       "..       ...    ...                                                ...     ...\n",
       "166      104     19  <PIL.JpegImagePlugin.JpegImageFile image mode=...       1\n",
       "167      151     66  <PIL.JpegImagePlugin.JpegImageFile image mode=...       1\n",
       "168      142     57  <PIL.JpegImagePlugin.JpegImageFile image mode=...       1\n",
       "169      147     62  <PIL.JpegImagePlugin.JpegImageFile image mode=...       1\n",
       "170        5      5  <PIL.JpegImagePlugin.JpegImageFile image mode=...       0\n",
       "\n",
       "[171 rows x 4 columns]"
      ]
     },
     "execution_count": 18,
     "metadata": {},
     "output_type": "execute_result"
    }
   ],
   "source": [
    "df"
   ]
  },
  {
   "cell_type": "code",
   "execution_count": 19,
   "id": "800e2514-baa3-46bc-9459-1a83244df182",
   "metadata": {
    "tags": []
   },
   "outputs": [],
   "source": [
    "df =df.drop(['level_0','index'],axis=1)"
   ]
  },
  {
   "cell_type": "code",
   "execution_count": 20,
   "id": "34170d43-b9db-42de-9b9e-46c6c9ef502b",
   "metadata": {
    "tags": []
   },
   "outputs": [
    {
     "data": {
      "text/html": [
       "<div>\n",
       "<style scoped>\n",
       "    .dataframe tbody tr th:only-of-type {\n",
       "        vertical-align: middle;\n",
       "    }\n",
       "\n",
       "    .dataframe tbody tr th {\n",
       "        vertical-align: top;\n",
       "    }\n",
       "\n",
       "    .dataframe thead th {\n",
       "        text-align: right;\n",
       "    }\n",
       "</style>\n",
       "<table border=\"1\" class=\"dataframe\">\n",
       "  <thead>\n",
       "    <tr style=\"text-align: right;\">\n",
       "      <th></th>\n",
       "      <th>image</th>\n",
       "    </tr>\n",
       "  </thead>\n",
       "  <tbody>\n",
       "    <tr>\n",
       "      <th>0</th>\n",
       "      <td>&lt;PIL.JpegImagePlugin.JpegImageFile image mode=...</td>\n",
       "    </tr>\n",
       "    <tr>\n",
       "      <th>1</th>\n",
       "      <td>&lt;PIL.JpegImagePlugin.JpegImageFile image mode=...</td>\n",
       "    </tr>\n",
       "    <tr>\n",
       "      <th>2</th>\n",
       "      <td>&lt;PIL.PngImagePlugin.PngImageFile image mode=RG...</td>\n",
       "    </tr>\n",
       "    <tr>\n",
       "      <th>3</th>\n",
       "      <td>&lt;PIL.JpegImagePlugin.JpegImageFile image mode=...</td>\n",
       "    </tr>\n",
       "    <tr>\n",
       "      <th>4</th>\n",
       "      <td>&lt;PIL.JpegImagePlugin.JpegImageFile image mode=...</td>\n",
       "    </tr>\n",
       "    <tr>\n",
       "      <th>...</th>\n",
       "      <td>...</td>\n",
       "    </tr>\n",
       "    <tr>\n",
       "      <th>166</th>\n",
       "      <td>&lt;PIL.JpegImagePlugin.JpegImageFile image mode=...</td>\n",
       "    </tr>\n",
       "    <tr>\n",
       "      <th>167</th>\n",
       "      <td>&lt;PIL.JpegImagePlugin.JpegImageFile image mode=...</td>\n",
       "    </tr>\n",
       "    <tr>\n",
       "      <th>168</th>\n",
       "      <td>&lt;PIL.JpegImagePlugin.JpegImageFile image mode=...</td>\n",
       "    </tr>\n",
       "    <tr>\n",
       "      <th>169</th>\n",
       "      <td>&lt;PIL.JpegImagePlugin.JpegImageFile image mode=...</td>\n",
       "    </tr>\n",
       "    <tr>\n",
       "      <th>170</th>\n",
       "      <td>&lt;PIL.JpegImagePlugin.JpegImageFile image mode=...</td>\n",
       "    </tr>\n",
       "  </tbody>\n",
       "</table>\n",
       "<p>171 rows × 1 columns</p>\n",
       "</div>"
      ],
      "text/plain": [
       "                                                 image\n",
       "0    <PIL.JpegImagePlugin.JpegImageFile image mode=...\n",
       "1    <PIL.JpegImagePlugin.JpegImageFile image mode=...\n",
       "2    <PIL.PngImagePlugin.PngImageFile image mode=RG...\n",
       "3    <PIL.JpegImagePlugin.JpegImageFile image mode=...\n",
       "4    <PIL.JpegImagePlugin.JpegImageFile image mode=...\n",
       "..                                                 ...\n",
       "166  <PIL.JpegImagePlugin.JpegImageFile image mode=...\n",
       "167  <PIL.JpegImagePlugin.JpegImageFile image mode=...\n",
       "168  <PIL.JpegImagePlugin.JpegImageFile image mode=...\n",
       "169  <PIL.JpegImagePlugin.JpegImageFile image mode=...\n",
       "170  <PIL.JpegImagePlugin.JpegImageFile image mode=...\n",
       "\n",
       "[171 rows x 1 columns]"
      ]
     },
     "execution_count": 20,
     "metadata": {},
     "output_type": "execute_result"
    }
   ],
   "source": [
    "x=df.drop('labels',axis=1)\n",
    "x"
   ]
  },
  {
   "cell_type": "code",
   "execution_count": 21,
   "id": "64557a9a-7e33-43af-8162-625c392cc635",
   "metadata": {
    "tags": []
   },
   "outputs": [
    {
     "data": {
      "text/plain": [
       "0      1\n",
       "1      1\n",
       "2      0\n",
       "3      0\n",
       "4      0\n",
       "      ..\n",
       "166    1\n",
       "167    1\n",
       "168    1\n",
       "169    1\n",
       "170    0\n",
       "Name: labels, Length: 171, dtype: int64"
      ]
     },
     "execution_count": 21,
     "metadata": {},
     "output_type": "execute_result"
    }
   ],
   "source": [
    "y=df['labels']\n",
    "y"
   ]
  },
  {
   "cell_type": "code",
   "execution_count": 22,
   "id": "ad1f79e7-ccd3-4865-9bdf-93e94982d511",
   "metadata": {
    "tags": []
   },
   "outputs": [],
   "source": [
    "xtrain,xtest,ytrain,ytest = train_test_split(x,y,test_size=0.2,random_state=101)"
   ]
  },
  {
   "cell_type": "code",
   "execution_count": 23,
   "id": "7b60b3e7-bdff-49ec-ac22-d65e1660454e",
   "metadata": {
    "tags": []
   },
   "outputs": [],
   "source": [
    "xtrain['image'][0].show()"
   ]
  },
  {
   "cell_type": "code",
   "execution_count": 24,
   "id": "0840d8fd-5946-4eee-a76d-db98a8f0cdac",
   "metadata": {
    "tags": []
   },
   "outputs": [
    {
     "data": {
      "text/plain": [
       "1"
      ]
     },
     "execution_count": 24,
     "metadata": {},
     "output_type": "execute_result"
    }
   ],
   "source": [
    "ytrain[0]"
   ]
  },
  {
   "cell_type": "code",
   "execution_count": 25,
   "id": "74dd0af4-eba1-48ad-b96f-6b36c443ff75",
   "metadata": {
    "tags": []
   },
   "outputs": [
    {
     "data": {
      "text/plain": [
       "0"
      ]
     },
     "execution_count": 25,
     "metadata": {},
     "output_type": "execute_result"
    }
   ],
   "source": [
    "ytrain[170]"
   ]
  },
  {
   "cell_type": "code",
   "execution_count": 26,
   "id": "174d248c-67ab-4b1d-aeba-5f76132ca63e",
   "metadata": {
    "tags": []
   },
   "outputs": [],
   "source": [
    "xtrain['image'][170].show()"
   ]
  },
  {
   "cell_type": "code",
   "execution_count": 27,
   "id": "9d0b26f8-b889-4b01-8664-5701267ec4c8",
   "metadata": {
    "tags": []
   },
   "outputs": [],
   "source": [
    "def fix_images(df):\n",
    "    for i in range(len(df)):\n",
    "        df['image'][i]=df['image'][i].resize((128,128))\n",
    "    return df"
   ]
  },
  {
   "cell_type": "code",
   "execution_count": 28,
   "id": "2470c320-8877-4521-98a1-3fe2e5165ca8",
   "metadata": {
    "tags": []
   },
   "outputs": [
    {
     "data": {
      "text/html": [
       "<div>\n",
       "<style scoped>\n",
       "    .dataframe tbody tr th:only-of-type {\n",
       "        vertical-align: middle;\n",
       "    }\n",
       "\n",
       "    .dataframe tbody tr th {\n",
       "        vertical-align: top;\n",
       "    }\n",
       "\n",
       "    .dataframe thead th {\n",
       "        text-align: right;\n",
       "    }\n",
       "</style>\n",
       "<table border=\"1\" class=\"dataframe\">\n",
       "  <thead>\n",
       "    <tr style=\"text-align: right;\">\n",
       "      <th></th>\n",
       "      <th>image</th>\n",
       "      <th>labels</th>\n",
       "    </tr>\n",
       "  </thead>\n",
       "  <tbody>\n",
       "    <tr>\n",
       "      <th>0</th>\n",
       "      <td>&lt;PIL.Image.Image image mode=RGB size=128x128 a...</td>\n",
       "      <td>1</td>\n",
       "    </tr>\n",
       "    <tr>\n",
       "      <th>1</th>\n",
       "      <td>&lt;PIL.Image.Image image mode=RGB size=128x128 a...</td>\n",
       "      <td>1</td>\n",
       "    </tr>\n",
       "    <tr>\n",
       "      <th>2</th>\n",
       "      <td>&lt;PIL.Image.Image image mode=RGBA size=128x128 ...</td>\n",
       "      <td>0</td>\n",
       "    </tr>\n",
       "    <tr>\n",
       "      <th>3</th>\n",
       "      <td>&lt;PIL.Image.Image image mode=RGB size=128x128 a...</td>\n",
       "      <td>0</td>\n",
       "    </tr>\n",
       "    <tr>\n",
       "      <th>4</th>\n",
       "      <td>&lt;PIL.Image.Image image mode=RGB size=128x128 a...</td>\n",
       "      <td>0</td>\n",
       "    </tr>\n",
       "    <tr>\n",
       "      <th>...</th>\n",
       "      <td>...</td>\n",
       "      <td>...</td>\n",
       "    </tr>\n",
       "    <tr>\n",
       "      <th>166</th>\n",
       "      <td>&lt;PIL.Image.Image image mode=RGB size=128x128 a...</td>\n",
       "      <td>1</td>\n",
       "    </tr>\n",
       "    <tr>\n",
       "      <th>167</th>\n",
       "      <td>&lt;PIL.Image.Image image mode=RGB size=128x128 a...</td>\n",
       "      <td>1</td>\n",
       "    </tr>\n",
       "    <tr>\n",
       "      <th>168</th>\n",
       "      <td>&lt;PIL.Image.Image image mode=RGB size=128x128 a...</td>\n",
       "      <td>1</td>\n",
       "    </tr>\n",
       "    <tr>\n",
       "      <th>169</th>\n",
       "      <td>&lt;PIL.Image.Image image mode=RGB size=128x128 a...</td>\n",
       "      <td>1</td>\n",
       "    </tr>\n",
       "    <tr>\n",
       "      <th>170</th>\n",
       "      <td>&lt;PIL.Image.Image image mode=RGB size=128x128 a...</td>\n",
       "      <td>0</td>\n",
       "    </tr>\n",
       "  </tbody>\n",
       "</table>\n",
       "<p>171 rows × 2 columns</p>\n",
       "</div>"
      ],
      "text/plain": [
       "                                                 image  labels\n",
       "0    <PIL.Image.Image image mode=RGB size=128x128 a...       1\n",
       "1    <PIL.Image.Image image mode=RGB size=128x128 a...       1\n",
       "2    <PIL.Image.Image image mode=RGBA size=128x128 ...       0\n",
       "3    <PIL.Image.Image image mode=RGB size=128x128 a...       0\n",
       "4    <PIL.Image.Image image mode=RGB size=128x128 a...       0\n",
       "..                                                 ...     ...\n",
       "166  <PIL.Image.Image image mode=RGB size=128x128 a...       1\n",
       "167  <PIL.Image.Image image mode=RGB size=128x128 a...       1\n",
       "168  <PIL.Image.Image image mode=RGB size=128x128 a...       1\n",
       "169  <PIL.Image.Image image mode=RGB size=128x128 a...       1\n",
       "170  <PIL.Image.Image image mode=RGB size=128x128 a...       0\n",
       "\n",
       "[171 rows x 2 columns]"
      ]
     },
     "execution_count": 28,
     "metadata": {},
     "output_type": "execute_result"
    }
   ],
   "source": [
    "fix_images(df)"
   ]
  },
  {
   "cell_type": "code",
   "execution_count": 29,
   "id": "d85d40ac-63bf-4893-96b6-7608b2116ec5",
   "metadata": {
    "tags": []
   },
   "outputs": [
    {
     "data": {
      "text/plain": [
       "[]"
      ]
     },
     "execution_count": 29,
     "metadata": {},
     "output_type": "execute_result"
    }
   ],
   "source": [
    "tf.config.list_physical_devices('GPU')"
   ]
  },
  {
   "cell_type": "code",
   "execution_count": 30,
   "id": "8157bceb-44ba-4c64-812d-661230fc023b",
   "metadata": {
    "tags": []
   },
   "outputs": [
    {
     "name": "stdout",
     "output_type": "stream",
     "text": [
      "WARNING:tensorflow:From C:\\Users\\anush\\AppData\\Local\\Temp\\ipykernel_35652\\565982385.py:1: is_gpu_available (from tensorflow.python.framework.test_util) is deprecated and will be removed in a future version.\n",
      "Instructions for updating:\n",
      "Use `tf.config.list_physical_devices('GPU')` instead.\n"
     ]
    },
    {
     "data": {
      "text/plain": [
       "False"
      ]
     },
     "execution_count": 30,
     "metadata": {},
     "output_type": "execute_result"
    }
   ],
   "source": [
    "tf.test.is_gpu_available(cuda_only=False, min_cuda_compute_capability=None)"
   ]
  },
  {
   "cell_type": "code",
   "execution_count": 32,
   "id": "545a9c3f-cd8f-4ee3-af38-3f6c504ae720",
   "metadata": {
    "tags": []
   },
   "outputs": [
    {
     "data": {
      "text/plain": [
       "[]"
      ]
     },
     "execution_count": 32,
     "metadata": {},
     "output_type": "execute_result"
    }
   ],
   "source": [
    "tf.config.list_logical_devices('GPU')"
   ]
  },
  {
   "cell_type": "code",
   "execution_count": 33,
   "id": "4371f4b2-9a6b-46c4-9995-14e468e3575e",
   "metadata": {
    "tags": []
   },
   "outputs": [
    {
     "name": "stdout",
     "output_type": "stream",
     "text": [
      "Num GPUs Available:  0\n"
     ]
    }
   ],
   "source": [
    "import tensorflow as tf\n",
    "print(\"Num GPUs Available: \", len(tf.config.list_physical_devices('GPU')))"
   ]
  },
  {
   "cell_type": "code",
   "execution_count": null,
   "id": "bb4ddecf-3ece-43de-a67f-3c5d44fccbc1",
   "metadata": {},
   "outputs": [],
   "source": []
  }
 ],
 "metadata": {
  "kernelspec": {
   "display_name": "Python 3 (ipykernel)",
   "language": "python",
   "name": "python3"
  },
  "language_info": {
   "codemirror_mode": {
    "name": "ipython",
    "version": 3
   },
   "file_extension": ".py",
   "mimetype": "text/x-python",
   "name": "python",
   "nbconvert_exporter": "python",
   "pygments_lexer": "ipython3",
   "version": "3.9.17"
  }
 },
 "nbformat": 4,
 "nbformat_minor": 5
}
